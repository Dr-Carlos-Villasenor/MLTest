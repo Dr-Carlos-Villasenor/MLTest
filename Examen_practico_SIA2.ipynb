{
  "nbformat": 4,
  "nbformat_minor": 0,
  "metadata": {
    "colab": {
      "provenance": [],
      "authorship_tag": "ABX9TyOZRcylC6ldCpWXkXmFuDLt",
      "include_colab_link": true
    },
    "kernelspec": {
      "name": "python3",
      "display_name": "Python 3"
    },
    "language_info": {
      "name": "python"
    }
  },
  "cells": [
    {
      "cell_type": "markdown",
      "metadata": {
        "id": "view-in-github",
        "colab_type": "text"
      },
      "source": [
        "<a href=\"https://colab.research.google.com/github/Dr-Carlos-Villasenor/SIA2Test/blob/main/Examen_practico_SIA2.ipynb\" target=\"_parent\"><img src=\"https://colab.research.google.com/assets/colab-badge.svg\" alt=\"Open In Colab\"/></a>"
      ]
    },
    {
      "cell_type": "markdown",
      "source": [
        "# Examen práctico\n",
        "## Seminario de Solución de problemas de Inteligencia Artificial 2\n",
        "### Dr. Carlos Villaseñor"
      ],
      "metadata": {
        "id": "8HHV3RSr-QpJ"
      }
    },
    {
      "cell_type": "markdown",
      "source": [
        "Bienvenido a tu examen práctico de la asignatura de Seminario de Solución de problemas de Inteligencia Artificial 2, sigue las instrucciones:"
      ],
      "metadata": {
        "id": "dKQUvL2b-qbL"
      }
    },
    {
      "cell_type": "markdown",
      "source": [
        "##Preparación"
      ],
      "metadata": {
        "id": "HlVcQ7Gf_-ci"
      }
    },
    {
      "cell_type": "markdown",
      "source": [
        "Paso 1. Define tus datos de estudiante"
      ],
      "metadata": {
        "id": "mz2Ugk2u-1FA"
      }
    },
    {
      "cell_type": "code",
      "source": [
        "# Tu código de estudiante como un número entero\n",
        "codigo = \n",
        "\n",
        "# Nombre completo del estudiante\n",
        "nombre = \"\"\n"
      ],
      "metadata": {
        "id": "RiFT69Hw-p_J"
      },
      "execution_count": 3,
      "outputs": []
    },
    {
      "cell_type": "markdown",
      "source": [
        "Paso 2. Corre la siguiente función:"
      ],
      "metadata": {
        "id": "ESX4saR__MQo"
      }
    },
    {
      "cell_type": "code",
      "source": [
        "def getProblem(codigo_de_estudiante):\n",
        "    sum = 0\n",
        "    for digit in str(codigo_de_estudiante): \n",
        "      sum += int(digit)      \n",
        "    return sum % 5"
      ],
      "metadata": {
        "id": "bCXgvyYc-dlf"
      },
      "execution_count": 1,
      "outputs": []
    },
    {
      "cell_type": "markdown",
      "source": [
        "Paso 3. Obten el número de tu problema"
      ],
      "metadata": {
        "id": "jt-uLvKx_W0S"
      }
    },
    {
      "cell_type": "code",
      "execution_count": null,
      "metadata": {
        "id": "NfS7ANqe-QF-"
      },
      "outputs": [],
      "source": [
        "problema = getProblem(codigo)\n",
        "print('Tu problema a resolver es el número: ', problema)"
      ]
    },
    {
      "cell_type": "markdown",
      "source": [
        "Paso 4. En los siguientes comandos modifica la X por el número de problema que te tocó"
      ],
      "metadata": {
        "id": "iREwBslYAIBq"
      }
    },
    {
      "cell_type": "code",
      "source": [
        "!wget \"https://github.com/Dr-Carlos-Villasenor/SIA2Test/raw/main/problemX.zip\"\n",
        "!unzip problemX.zip"
      ],
      "metadata": {
        "id": "uNTDfeuPAOIO"
      },
      "execution_count": null,
      "outputs": []
    },
    {
      "cell_type": "markdown",
      "source": [
        "## Exámen Practico\n"
      ],
      "metadata": {
        "id": "GeNkeBRCGDHR"
      }
    },
    {
      "cell_type": "markdown",
      "source": [
        "Paso 5. Lee el archivo de texto con las instrucciones"
      ],
      "metadata": {
        "id": "LJ7PSmCBGcI_"
      }
    },
    {
      "cell_type": "code",
      "source": [
        "with open(\"Instrucciones.txt\") as archivo:\n",
        "    print(archivo.read())"
      ],
      "metadata": {
        "id": "25hbdIoSGj0o"
      },
      "execution_count": null,
      "outputs": []
    },
    {
      "cell_type": "markdown",
      "source": [
        "Paso 6. Carga los datos y demuestrame lo que has aprendido. Agrega todos los bloques de código y texto que creas necesario."
      ],
      "metadata": {
        "id": "9DGx3C7yGqbG"
      }
    },
    {
      "cell_type": "code",
      "source": [
        "import pandas as pd\n",
        "\n",
        "df = pd.read_csv('data.csv')\n",
        "df.info()"
      ],
      "metadata": {
        "id": "A-NN48Y4TKfg"
      },
      "execution_count": null,
      "outputs": []
    },
    {
      "cell_type": "markdown",
      "source": [
        "## Fin del examen"
      ],
      "metadata": {
        "id": "fu1fAlebGzPc"
      }
    },
    {
      "cell_type": "markdown",
      "source": [
        "¿Qué te parecio el examen?, cualquier sugerencia para mejorar es bienvenida, dejamela en el siguiente bloque."
      ],
      "metadata": {
        "id": "3Y1DSY0CTqP-"
      }
    },
    {
      "cell_type": "markdown",
      "source": [],
      "metadata": {
        "id": "uAdrFJdUT2k-"
      }
    },
    {
      "cell_type": "markdown",
      "source": [
        "Paso Final. Asegurate de subir este archivo a classroom"
      ],
      "metadata": {
        "id": "D6eQsUKWG_Ts"
      }
    }
  ]
}