{
  "nbformat": 4,
  "nbformat_minor": 0,
  "metadata": {
    "colab": {
      "provenance": [],
      "include_colab_link": true
    },
    "kernelspec": {
      "name": "python3",
      "display_name": "Python 3"
    },
    "language_info": {
      "name": "python"
    }
  },
  "cells": [
    {
      "cell_type": "markdown",
      "metadata": {
        "id": "view-in-github",
        "colab_type": "text"
      },
      "source": [
        "<a href=\"https://colab.research.google.com/github/Dr-Carlos-Villasenor/MLTest/blob/main/Examen_practico_ML.ipynb\" target=\"_parent\"><img src=\"https://colab.research.google.com/assets/colab-badge.svg\" alt=\"Open In Colab\"/></a>"
      ]
    },
    {
      "cell_type": "markdown",
      "source": [
        "# Examen práctico de ML\n",
        "## Dr. Carlos Villaseñor\n",
        "### Asignaturas:\n",
        "### Seminario de Solución de Problemas de Inteligencia Artificial II\n",
        "### Sistemas Inteligentes IV\n"
      ],
      "metadata": {
        "id": "8HHV3RSr-QpJ"
      }
    },
    {
      "cell_type": "markdown",
      "source": [
        "Bienvenido a tu examen práctico de la asignatura de Seminario de Solución de problemas de Inteligencia Artificial 2, Te pido que leas atentamente las instrucciones. Tendrás como máximo para terminar este examen. ¡Exito!.\n"
      ],
      "metadata": {
        "id": "dKQUvL2b-qbL"
      }
    },
    {
      "cell_type": "markdown",
      "source": [
        "# Reglas del examen"
      ],
      "metadata": {
        "id": "8xvL2ayb7M8O"
      }
    },
    {
      "cell_type": "markdown",
      "source": [
        "\n",
        "\n",
        "1. Puedes revisar cualquiera de los proyectos anteriores que hemos hecho\n",
        "2. Puedes buscar información en stackoverflow o páginas similares para revisar errores en tu código\n",
        "3. Puedes usar la documentación de sklearn\n",
        "4. Esta prohibido abrir la página de Kaggle.com, el solo hecho de tener está página abierta en el momento del examen provocará la cancelación del examen y por lo tanto 30 puntos menos en su calificación final\n",
        "5. No se permite hablar ni mandar mensajes, a otros compañeros o externos a la clase durante el examen, al igual que el uso de celular. Esto causara la cancelación inmediata del examen.\n",
        "6. Se prohibe usar ChatGPT o Copilot o cualquier otra ayuda de generación de texto o NLP. Abrir estás páginas o tener el plugin instalado en su IDE provocará la cancelación inmediata del examen.\n",
        "7. Para asegurar que el examen sea justo, no se permite ir al baño durante la aplicación del examen (ya que pueden obtener información de otros medios).\n",
        "8. Antes de proceder al examen tiene que aceptar estas condiciones o si no el examen quedará invalido.\n",
        "\n",
        "\n",
        "\n",
        "\n",
        "¿Acepta usted estás condiciones?\n"
      ],
      "metadata": {
        "id": "D75TCIb_7O4f"
      }
    },
    {
      "cell_type": "code",
      "source": [
        "Acepta = #\"Si\", \"No\""
      ],
      "metadata": {
        "id": "HLMMxufT9Els"
      },
      "execution_count": null,
      "outputs": []
    },
    {
      "cell_type": "markdown",
      "source": [
        "##Preparación"
      ],
      "metadata": {
        "id": "HlVcQ7Gf_-ci"
      }
    },
    {
      "cell_type": "markdown",
      "source": [
        "Paso 1. Define tus datos de estudiante (Tus datos serán comparados con un script)"
      ],
      "metadata": {
        "id": "mz2Ugk2u-1FA"
      }
    },
    {
      "cell_type": "code",
      "source": [
        "# Tu código de estudiante como un número entero\n",
        "codigo =\n",
        "\n",
        "# Nombre completo del estudiante (comenzando por nombre)\n",
        "nombre = \"\"\n",
        "\n",
        "# Carrera en su acrónimo: INCO, INRI INNI\n",
        "Carrera = \"\"\n"
      ],
      "metadata": {
        "id": "RiFT69Hw-p_J"
      },
      "execution_count": null,
      "outputs": []
    },
    {
      "cell_type": "markdown",
      "source": [
        "Paso 2. Corre la siguiente función:"
      ],
      "metadata": {
        "id": "ESX4saR__MQo"
      }
    },
    {
      "cell_type": "code",
      "source": [
        "def getProblem(codigo_de_estudiante):\n",
        "    sum = 0\n",
        "    for digit in str(codigo_de_estudiante):\n",
        "      sum += int(digit)\n",
        "    return sum % 7"
      ],
      "metadata": {
        "id": "bCXgvyYc-dlf"
      },
      "execution_count": null,
      "outputs": []
    },
    {
      "cell_type": "markdown",
      "source": [
        "Paso 3. Obten el número de tu problema"
      ],
      "metadata": {
        "id": "jt-uLvKx_W0S"
      }
    },
    {
      "cell_type": "code",
      "execution_count": null,
      "metadata": {
        "id": "NfS7ANqe-QF-"
      },
      "outputs": [],
      "source": [
        "problema = getProblem(codigo)\n",
        "print('Tu problema a resolver es el número: ', problema)"
      ]
    },
    {
      "cell_type": "markdown",
      "source": [
        "Paso 4. En los siguientes comandos modifica la X por el número de problema que te tocó"
      ],
      "metadata": {
        "id": "iREwBslYAIBq"
      }
    },
    {
      "cell_type": "code",
      "source": [
        "!wget \"https://github.com/Dr-Carlos-Villasenor/MLTest/raw/main/problemX.zip\"\n",
        "!unzip problemX.zip"
      ],
      "metadata": {
        "id": "uNTDfeuPAOIO"
      },
      "execution_count": null,
      "outputs": []
    },
    {
      "cell_type": "markdown",
      "source": [
        "Paso 5. Lee el archivo de texto con las instrucciones"
      ],
      "metadata": {
        "id": "LJ7PSmCBGcI_"
      }
    },
    {
      "cell_type": "code",
      "source": [
        "with open(\"problemX/Instrucciones.txt\") as archivo:\n",
        "    print(archivo.read())"
      ],
      "metadata": {
        "id": "25hbdIoSGj0o"
      },
      "execution_count": null,
      "outputs": []
    },
    {
      "cell_type": "markdown",
      "source": [
        "Paso 6. Carga los datos"
      ],
      "metadata": {
        "id": "9DGx3C7yGqbG"
      }
    },
    {
      "cell_type": "code",
      "source": [
        "import pandas as pd\n",
        "\n",
        "df = pd.read_csv('problemX/data.csv')\n",
        "df.info()"
      ],
      "metadata": {
        "id": "A-NN48Y4TKfg"
      },
      "execution_count": null,
      "outputs": []
    },
    {
      "cell_type": "markdown",
      "source": [
        "## Exámen Practico\n"
      ],
      "metadata": {
        "id": "GeNkeBRCGDHR"
      }
    },
    {
      "cell_type": "markdown",
      "source": [
        "Paso 7. Usa todo lo que has aprendido en la clase para tratar se satisfacer el pedido del cliente. Recuerda las buenas prácticas en ML. Incluye los cuadros de texto que sean necesarios para entender tu código, imagina que esto es algo que va a ver tu cliente o algun otro ingeniero."
      ],
      "metadata": {
        "id": "XzMonzcGvheS"
      }
    },
    {
      "cell_type": "code",
      "source": [],
      "metadata": {
        "id": "7lil9p91wzkm"
      },
      "execution_count": null,
      "outputs": []
    },
    {
      "cell_type": "markdown",
      "source": [
        "## Fin del examen"
      ],
      "metadata": {
        "id": "fu1fAlebGzPc"
      }
    },
    {
      "cell_type": "markdown",
      "source": [
        "¿Qué te parecio el examen?, cualquier sugerencia para mejorar es bienvenida, dejamela en el siguiente bloque."
      ],
      "metadata": {
        "id": "3Y1DSY0CTqP-"
      }
    },
    {
      "cell_type": "markdown",
      "source": [
        "Respuesta:"
      ],
      "metadata": {
        "id": "uAdrFJdUT2k-"
      }
    },
    {
      "cell_type": "markdown",
      "source": [
        "# Prepara tu examen para subirlo"
      ],
      "metadata": {
        "id": "oLGCVPYYwAHy"
      }
    },
    {
      "cell_type": "markdown",
      "source": [
        "Paso Final. Asegurate que el notevbook tenga corrido todas las pestañas (solo correré tu código en caso de dudas). Ve a la pesataña de File y luego en Download, descarga el archivo en formato \".ipynb\"\n",
        "\n",
        "Sube el archivo en el espacio correspondiente de Classroom."
      ],
      "metadata": {
        "id": "D6eQsUKWG_Ts"
      }
    }
  ]
}